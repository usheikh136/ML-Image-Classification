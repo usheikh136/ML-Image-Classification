{
  "cells": [
    {
      "cell_type": "code",
      "execution_count": null,
      "metadata": {
        "id": "E5YKCuTUKhhP"
      },
      "outputs": [],
      "source": [
        "import numpy as np\n",
        "import tensorflow as tf\n",
        "import copy\n",
        "from keras.datasets import cifar10\n",
        "from keras import datasets, layers, models, optimizers\n",
        "from keras.layers import UpSampling2D, Dense, Flatten, BatchNormalization, Dropout\n",
        "from tensorflow import keras\n",
        "import matplotlib.pyplot as plt\n",
        "from sklearn.model_selection import GridSearchCV\n",
        "from matplotlib import pyplot as plt\n",
        "from keras.preprocessing.image import ImageDataGenerator\n",
        "from tensorflow.keras.applications.resnet50 import ResNet50, preprocess_input\n",
        "from keras.utils import np_utils\n",
        "from keras.models import load_model, Sequential\n",
        "from tensorflow.keras.optimizers import SGD"
      ]
    },
    {
      "cell_type": "markdown",
      "metadata": {
        "id": "UK0Tl27EK0zp"
      },
      "source": [
        "# 1. Data Preparation"
      ]
    },
    {
      "cell_type": "code",
      "execution_count": null,
      "metadata": {
        "id": "K6z9I6NSK2oZ",
        "colab": {
          "base_uri": "https://localhost:8080/"
        },
        "outputId": "ba1e467f-faf8-477a-b91b-33f137c3984e"
      },
      "outputs": [
        {
          "output_type": "stream",
          "name": "stdout",
          "text": [
            "Downloading data from https://www.cs.toronto.edu/~kriz/cifar-10-python.tar.gz\n",
            "170498071/170498071 [==============================] - 4s 0us/step\n"
          ]
        }
      ],
      "source": [
        "(x_train, y_train), (x_test, y_test) = cifar10.load_data()"
      ]
    },
    {
      "cell_type": "markdown",
      "metadata": {
        "id": "Yj59Dm0BofAS"
      },
      "source": [
        "## Data normalization"
      ]
    },
    {
      "cell_type": "code",
      "execution_count": null,
      "metadata": {
        "id": "kasAMbTbodzg"
      },
      "outputs": [],
      "source": [
        "# Vectorize images\n",
        "x_train_vec = x_train.reshape(x_train.shape[0], -1)\n",
        "x_test_vec = x_test.reshape(x_test.shape[0], -1)\n",
        "\n",
        "# Normalize vectorized images\n",
        "mean = np.mean(x_train_vec, axis=0)\n",
        "std = np.std(x_train_vec, axis=0)\n",
        "x_train_norm = (x_train_vec - mean) / std\n",
        "\n",
        "mean = np.mean(x_test_vec, axis=0)\n",
        "std = np.std(x_test_vec, axis=0)\n",
        "x_test_norm = (x_test_vec - mean) / std\n",
        "\n",
        "# Normalize images CNN\n",
        "mean = np.mean(x_train, axis=0)\n",
        "std = np.std(x_train, axis=0)\n",
        "x_train_norm_cnn = (x_train - mean) / std\n",
        "\n",
        "mean = np.mean(x_test, axis=0)\n",
        "std = np.std(x_test, axis=0)\n",
        "x_test_norm_cnn = (x_test - mean) / std\n",
        "\n",
        "# Normalize images ResNet-50\n",
        "x_train_rn = preprocess_input(x_train)\n",
        "x_test_rn = preprocess_input(x_test)\n",
        "\n",
        "# One-hot encoding\n",
        "yt = y_train.reshape(y_train.shape[0])\n",
        "y_train_oh = np.zeros((yt.size, yt.max()+1), dtype=float)\n",
        "y_train_oh[np.arange(yt.size),yt] = 1\n",
        "\n",
        "ytt = y_test.reshape(y_test.shape[0])\n",
        "y_test_oh = np.zeros((ytt.size, ytt.max()+1), dtype=float)\n",
        "y_test_oh[np.arange(ytt.size),ytt] = 1\n",
        "\n",
        "# To categorical ResNet-50\n",
        "y_train_rn = keras.utils.to_categorical(y_train)\n",
        "y_test_rn = keras.utils.to_categorical(y_test)"
      ]
    },
    {
      "cell_type": "markdown",
      "metadata": {
        "id": "0HU41Xz6K38Z"
      },
      "source": [
        "# 2. Multilayer Perceptron Implementation\n",
        "Multiclass classification multilayer perceptron <br>\n",
        "D input features\n",
        "<br>\n",
        "C output classes\n",
        "<br>\n",
        "L hidden layers\n",
        "<br>\n",
        "M hidden units per layer"
      ]
    },
    {
      "cell_type": "code",
      "execution_count": null,
      "metadata": {
        "id": "GDH2_qyFKVZM"
      },
      "outputs": [],
      "source": [
        "def relu(x):\n",
        "  return np.maximum(0, x)\n",
        "\n",
        "def drelu(x):\n",
        "  x[x<=0] = 0\n",
        "  x[x>0] = 1\n",
        "  return x"
      ]
    },
    {
      "cell_type": "code",
      "execution_count": null,
      "metadata": {
        "id": "sgsoQAVDMbA8"
      },
      "outputs": [],
      "source": [
        "def softmax(x):\n",
        "  for i, row in enumerate(x):\n",
        "    e_x = np.exp(row - np.max(row))\n",
        "    x[i] = e_x / e_x.sum()\n",
        "  return x"
      ]
    },
    {
      "cell_type": "code",
      "execution_count": null,
      "metadata": {
        "id": "w58DPixvmIEq"
      },
      "outputs": [],
      "source": [
        "class MLP:\n",
        "  def __init__(self, activ_func=None, dactiv_func=None, L=0, M=0, add_bias=True):\n",
        "    self.activ_func = activ_func\n",
        "    self.dactiv_func = dactiv_func\n",
        "    self.L = L\n",
        "    self.M = M\n",
        "    self.add_bias = add_bias\n",
        "    self.train_hist = []\n",
        "    self.test_hist = []\n",
        "    pass\n",
        "\n",
        "  def fit(self, x, y, optimizer):\n",
        "\n",
        "    def gradient(x, y, weights):\n",
        "      params = {}\n",
        "      N,D = x.shape\n",
        "\n",
        "      if self.add_bias:\n",
        "        x = np.column_stack([x,np.ones(N)])\n",
        "\n",
        "      # FORWARD PASS: get predicted y (i.e., yh) and value at each hidden layer\n",
        "      # 0 hidden layers\n",
        "      if self.L == 0:\n",
        "        params['q1'] = np.dot(x, weights['w1'])\n",
        "        params['yh'] = softmax(params['q1'])\n",
        "\n",
        "      # 1 hidden layer\n",
        "      if self.L == 1:\n",
        "        params['q1'] = np.dot(x, weights['w1'])\n",
        "        params['z1'] = self.activ_func(params['q1'])\n",
        "        params['q2'] = np.dot(params['z1'], weights['w2'])\n",
        "        params['yh'] = softmax(params['q2'])\n",
        "\n",
        "      # 2 hidden layers\n",
        "      if self.L == 2:\n",
        "        params['q1'] = np.dot(x, weights['w1'])\n",
        "        params['z1'] = self.activ_func(params['q1'])\n",
        "        params['q2'] = np.dot(params['z1'], weights['w2'])\n",
        "        params['z2'] = self.activ_func(params['q2'])\n",
        "        params['q3'] = np.dot(params['z2'], weights['w3'])\n",
        "        params['yh'] = softmax(params['q3'])\n",
        "\n",
        "\n",
        "      # BACKWARD PASS: get all partial derivatives using hidden layer values and yh computed above\n",
        "      dy = params['yh'] - y #N x C\n",
        "\n",
        "      # Gradients for 0 hidden layers\n",
        "      if self.L == 0:\n",
        "        dw = np.dot(x.T, dy)/N #D\n",
        "        dweights = {'w1':dw}\n",
        "        return dweights\n",
        "\n",
        "      # Gradients for 1 hidden layer\n",
        "      if self.L == 1:\n",
        "        dw2 = np.dot(params['z1'].T, dy)/N             # M x C\n",
        "\n",
        "        dz1 = np.dot(dy, weights['w2'].T) * self.dactiv_func(params['q1'])           # N x M\n",
        "        dw1 = np.dot(x.T, dz1)/N          # D x M\n",
        "\n",
        "        dweights = {'w1':dw1, 'w2':dw2}\n",
        "        return dweights\n",
        "\n",
        "      # Gradient for 2 hidden layers\n",
        "      elif self.L == 2:\n",
        "        dw3 = np.dot(params['z2'].T, dy)/N             # M x C\n",
        "\n",
        "        dz2 = np.dot(dy, weights['w3'].T) * self.dactiv_func(params['q2'])          # N x M\n",
        "        dw2 = np.dot(params['z1'].T, dz2)/N   # M x M\n",
        "\n",
        "        dz1 = np.dot(dz2, weights['w2'].T) * self.dactiv_func(params['q1'])        # N x M\n",
        "        dw1 = np.dot(x.T, dz1)/N       # D x M\n",
        "\n",
        "        dweights = {'w1': dw1, 'w2':dw2, 'w3':dw3}\n",
        "        return dweights\n",
        "\n",
        "\n",
        "    # Initialize weight values to random integers\n",
        "    if self.add_bias:\n",
        "      b = 1\n",
        "    else:\n",
        "      b = 0\n",
        "\n",
        "    # 0 hidden layers\n",
        "    if self.L == 0:\n",
        "      weights0 = {'w1': np.random.randn(x.shape[1]+b, 10) * .01}         # D x C\n",
        "\n",
        "    # 1 hidden layer\n",
        "    elif self.L == 1:\n",
        "      weights0 = {'w1': np.random.randn(x.shape[1]+b, self.M+b) * .01,   # D x M\n",
        "                  'w2' : np.random.randn(self.M+b, 10) * .01}        # M x C\n",
        "\n",
        "    # 2 hidden layers\n",
        "    elif self.L == 2:\n",
        "      weights0 = {'w1': np.random.randn(x.shape[1]+b, self.M+b) * .01,\n",
        "                  'w2': np.random.randn(self.M+b, self.M+b) * .01,\n",
        "                  'w3': np.random.randn(self.M+b, 10) * .01}\n",
        "\n",
        "\n",
        "    # Run gradient descent\n",
        "    self.params = optimizer.run(gradient, x, y, weights0)\n",
        "\n",
        "    # Get training history accuracies\n",
        "    for weights in optimizer.w_hist:\n",
        "      yh_train = self.predict_w_weights(x_train_norm, weights)\n",
        "      self.train_hist.append(evaluate_acc(yh_train, y_train))\n",
        "\n",
        "      yh_test = self.predict_w_weights(x_test_norm, weights)\n",
        "      self.test_hist.append(evaluate_acc(yh_test, y_test))\n",
        "\n",
        "    return self\n",
        "\n",
        "\n",
        "  def predict_w_weights(self, x, weights):\n",
        "    if self.add_bias:\n",
        "        x = np.column_stack([x,np.ones(x.shape[0])])\n",
        "\n",
        "    # 0 hidden layers\n",
        "    if self.L == 0:\n",
        "      yh = softmax(np.dot(x, weights['w1']))\n",
        "\n",
        "    # 1 hidden layer\n",
        "    if self.L == 1:\n",
        "      z1 = self.activ_func(np.dot(x, weights['w1']))\n",
        "      yh = softmax(np.dot(z1, weights['w2']))\n",
        "\n",
        "    # 2 hidden layers\n",
        "    if self.L == 2:\n",
        "      z1 = self.activ_func(np.dot(x, weights['w1']))\n",
        "      z2 = self.activ_func(np.dot(z1, weights['w2']))\n",
        "      yh = softmax(np.dot(z2, weights['w3']))\n",
        "\n",
        "    return yh\n",
        "\n",
        "\n",
        "  def predict(self, x):\n",
        "    if self.add_bias:\n",
        "        x = np.column_stack([x,np.ones(x.shape[0])])\n",
        "\n",
        "    weights = self.params\n",
        "\n",
        "    # 0 hidden layers\n",
        "    if self.L == 0:\n",
        "      yh = softmax(np.dot(x, weights['w1']))\n",
        "\n",
        "    # 1 hidden layer\n",
        "    if self.L == 1:\n",
        "      z = self.activ_func(np.dot(x, weights['w1']))\n",
        "      yh = softmax(np.dot(z, weights['w2']))\n",
        "\n",
        "    # 2 hidden layers\n",
        "    if self.L == 2:\n",
        "      z1 = self.activ_func(np.dot(x, weights['w1']))\n",
        "      z2 = self.activ_func(np.dot(z1, weights['w2']))\n",
        "      yh = softmax(np.dot(z2, weights['w3']))\n",
        "    return yh"
      ]
    },
    {
      "cell_type": "code",
      "execution_count": null,
      "metadata": {
        "id": "qobCJrw_MpcD"
      },
      "outputs": [],
      "source": [
        "class GradientDescent:\n",
        "  def __init__(self, learning_rate=0.01, epochs=20, epsilon=1e-8, batch_size=128):\n",
        "    self.learning_rate = learning_rate\n",
        "    self.epochs = epochs\n",
        "    self.epsilon = epsilon\n",
        "    self.batch_size = batch_size\n",
        "    self.w_hist = []\n",
        "\n",
        "  def run(self, gradient_fn, x, y, ws):\n",
        "    # Make mini batches\n",
        "    x_batches = np.array_split(x, range(self.batch_size, len(x), self.batch_size))\n",
        "    y_batches = np.array_split(y, range(self.batch_size, len(y), self.batch_size))\n",
        "\n",
        "    norms = np.array([np.inf])\n",
        "    e = 0\n",
        "    w_hist = []\n",
        "    # Run gradient descent\n",
        "    while np.any(norms > self.epsilon) and e < (self.epochs):\n",
        "\n",
        "      for i, x_batch in enumerate(x_batches):\n",
        "        y_batch = y_batches[i]\n",
        "        grad = gradient_fn(x_batch, y_batch, ws)\n",
        "\n",
        "        # Weight update step\n",
        "        for w, v in grad.items():\n",
        "          ws[w] -= self.learning_rate * v\n",
        "\n",
        "      norms = np.array([np.linalg.norm(g) for g in grad.values()])\n",
        "      w_hist.append(copy.deepcopy(ws))\n",
        "      e += 1\n",
        "\n",
        "      #print('Done epoch', e)\n",
        "\n",
        "    self.w_hist = w_hist\n",
        "\n",
        "    return ws"
      ]
    },
    {
      "cell_type": "code",
      "execution_count": null,
      "metadata": {
        "id": "nikZF_GJ9tSo"
      },
      "outputs": [],
      "source": [
        "def confusion_matrix(y_pred, y_true):\n",
        "  cmatrix = np.zeros([10,10])\n",
        "  y_pred_labels = np.argmax(y_pred, axis=1)\n",
        "\n",
        "  for i, pred in enumerate(y_pred_labels):\n",
        "    true = y_true[i]\n",
        "    cmatrix[pred, true] += 1\n",
        "  return cmatrix"
      ]
    },
    {
      "cell_type": "code",
      "execution_count": null,
      "metadata": {
        "id": "WkQ7LogcqJMh"
      },
      "outputs": [],
      "source": [
        "def evaluate_acc(y_pred,y_true):\n",
        "  cmatrix = confusion_matrix(y_pred, y_true)\n",
        "  return np.trace(cmatrix) / np.sum(cmatrix)"
      ]
    },
    {
      "cell_type": "markdown",
      "metadata": {
        "id": "fFZYao_Lj3K3"
      },
      "source": [
        "# 3. Experiments"
      ]
    },
    {
      "cell_type": "markdown",
      "metadata": {
        "id": "mORjfSx7kNcr"
      },
      "source": [
        "## 3.1 Analysing the effect of network depth and non-linearity <br>\n",
        "\n",
        "\n",
        "1.   MLP with no hidden layers (L=0)\n",
        "2.   MLP with one hidden layer (L=1), 256 units (M=256), and ReLu activation\n",
        "3.   MLP with two hidden layers (L=2), 256 units (M=256), and ReLu activation\n",
        "\n"
      ]
    },
    {
      "cell_type": "code",
      "execution_count": null,
      "metadata": {
        "id": "E5fg-7IWUzLK"
      },
      "outputs": [],
      "source": [
        "# Create models\n",
        "model_0 = MLP(add_bias=True)\n",
        "model_1 = MLP(relu, drelu, L=1, M=256,add_bias=True)\n",
        "model_2 = MLP(relu, drelu, L=2, M=256,add_bias=True)\n",
        "optimizer0 = GradientDescent(learning_rate=.001, batch_size=256, epochs=50)\n",
        "optimizer1 = GradientDescent(learning_rate=.01, batch_size=256, epochs=50)\n",
        "optimizer2 = GradientDescent(learning_rate=.01, batch_size=256, epochs=50)\n",
        "\n",
        "# Train models\n",
        "fit_model_0 = model_0.fit(x_train_norm, y_train_oh, optimizer0)\n",
        "fit_model_1 = model_1.fit(x_train_norm, y_train_oh, optimizer1)\n",
        "fit_model_2 = model_2.fit(x_train_norm, y_train_oh, optimizer2)\n"
      ]
    },
    {
      "cell_type": "code",
      "source": [
        "# Get accuracies\n",
        "print('L=0 trainaccuracy:', fit_model_0.train_hist[-1])\n",
        "print('L=0 test accuracy:', fit_model_0.test_hist[-1], '\\n')\n",
        "\n",
        "print('L=1 train accuracy:', fit_model_1.train_hist[-1])\n",
        "print('L=1 test accuracy:', fit_model_1.test_hist[-1], '\\n')\n",
        "\n",
        "print('L=2 train accuracy:', fit_model_2.train_hist[-1])\n",
        "print('L=2 test accuracy:', fit_model_2.test_hist[-1])"
      ],
      "metadata": {
        "colab": {
          "base_uri": "https://localhost:8080/"
        },
        "id": "2uiygy7I7wwk",
        "outputId": "3453539a-989a-45ef-ccec-11551e043922"
      },
      "execution_count": null,
      "outputs": [
        {
          "output_type": "stream",
          "name": "stdout",
          "text": [
            "L=0 trainaccuracy: 0.43514\n",
            "L=0 test accuracy: 0.4079 \n",
            "\n",
            "L=1 train accuracy: 0.66624\n",
            "L=1 test accuracy: 0.5373 \n",
            "\n",
            "L=2 train accuracy: 0.6406\n",
            "L=2 test accuracy: 0.534\n"
          ]
        }
      ]
    },
    {
      "cell_type": "code",
      "source": [
        "plt.figure(figsize=(8,5))\n",
        "\n",
        "plt.plot(np.arange(1,51,1), fit_model_0.train_hist, 'm--', label='L=0 training')\n",
        "plt.plot(np.arange(1,51,1), fit_model_0.test_hist, 'm-', label='L=0 test')\n",
        "\n",
        "plt.plot(np.arange(1,51,1), fit_model_1.train_hist, 'b--', label='L=1 training')\n",
        "plt.plot(np.arange(1,51,1), fit_model_1.test_hist, 'b-', label='L=1 test')\n",
        "\n",
        "plt.plot(np.arange(1,51,1), fit_model_2.train_hist, 'g--', label='L=2 training')\n",
        "plt.plot(np.arange(1,51,1), fit_model_2.test_hist, 'g-', label='L=2 test')\n",
        "\n",
        "plt.xlabel('Epoch')\n",
        "plt.ylabel('Accuracy')\n",
        "plt.title('Effect of network depth on MLP model performance')\n",
        "plt.legend()\n",
        "plt.show()"
      ],
      "metadata": {
        "colab": {
          "base_uri": "https://localhost:8080/",
          "height": 350
        },
        "id": "Cn_tUVHcplBI",
        "outputId": "61fbd830-17dd-40d7-a985-1aadd27f92b5"
      },
      "execution_count": null,
      "outputs": [
        {
          "output_type": "display_data",
          "data": {
            "text/plain": [
              "<Figure size 576x360 with 1 Axes>"
            ],
            "image/png": "[encoded data removed]"
          },
          "metadata": {
            "needs_background": "light"
          }
        }
      ]
    },
    {
      "cell_type": "markdown",
      "metadata": {
        "id": "ymaGvkkylL4Y"
      },
      "source": [
        "## 3.2 Analysing changing activation function\n",
        "Using model 3 from part 3.1 above, but changing the activation function to tanh and Leaky-ReLu."
      ]
    },
    {
      "cell_type": "code",
      "execution_count": null,
      "metadata": {
        "id": "qnNFPutLVTaJ"
      },
      "outputs": [],
      "source": [
        "def tanh(x):\n",
        "    return np.tanh(x)\n",
        "\n",
        "def dtanh(x):\n",
        "    return 1 - np.tanh(x) ** 2"
      ]
    },
    {
      "cell_type": "code",
      "execution_count": null,
      "metadata": {
        "id": "Rr0LVan8Sd4V"
      },
      "outputs": [],
      "source": [
        "def leaky_relu(x, alpha=0.01):\n",
        "    return np.maximum(x, alpha*x)\n",
        "\n",
        "def dleaky_relu(x, alpha=0.01):\n",
        "    dx = np.ones_like(x)\n",
        "    dx[x < 0] = alpha\n",
        "    return dx"
      ]
    },
    {
      "cell_type": "code",
      "execution_count": null,
      "metadata": {
        "id": "kNKoen-3Slnx",
        "colab": {
          "base_uri": "https://localhost:8080/"
        },
        "outputId": "4b5f51d3-47f9-439c-bc38-39017f34fc0b"
      },
      "outputs": [
        {
          "output_type": "stream",
          "name": "stdout",
          "text": [
            "tanh model accuracy: 0.4757\n",
            "leaky ReLU model accuracy: 0.5351\n"
          ]
        }
      ],
      "source": [
        "#Create models\n",
        "model_tanh = MLP(tanh, dtanh, L=2, M=256, add_bias=True)\n",
        "model_lrelu = MLP(leaky_relu, dleaky_relu, L=2, M=256,add_bias=True)\n",
        "\n",
        "optimizer_tanh = GradientDescent(learning_rate=.01, epochs=50, batch_size=256)\n",
        "optimizer_lrelu = GradientDescent(learning_rate=.01, epochs=50, batch_size=256)\n",
        "\n",
        "#Get predictions\n",
        "fit_model_tanh = model_tanh.fit(x_train_norm, y_train_oh, optimizer_tanh)\n",
        "fit_model_lrelu = model_lrelu.fit(x_train_norm, y_train_oh, optimizer_lrelu)"
      ]
    },
    {
      "cell_type": "code",
      "source": [
        "# Get accuracies\n",
        "print('tanh model train accuracy:', fit_model_tanh.train_hist[-1])\n",
        "print('tanh model test accuracy:', fit_model_tanh.test_hist[-1], '\\n')\n",
        "\n",
        "print('leaky ReLU train model accuracy:', fit_model_lrelu.train_hist[-1])\n",
        "print('leaky ReLU train model accuracy:', fit_model_lrelu.test_hist[-1])"
      ],
      "metadata": {
        "colab": {
          "base_uri": "https://localhost:8080/"
        },
        "id": "6_ePOmw8b0D1",
        "outputId": "e40cdd75-1ba8-4d40-bf84-08d66ee9f268"
      },
      "execution_count": null,
      "outputs": [
        {
          "output_type": "stream",
          "name": "stdout",
          "text": [
            "tanh model train accuracy: 0.5592\n",
            "tanh model test accuracy: 0.4757 \n",
            "\n",
            "leaky ReLU train model accuracy: 0.63668\n",
            "leaky ReLU train model accuracy: 0.5351\n"
          ]
        }
      ]
    },
    {
      "cell_type": "code",
      "source": [
        "# Plot accuracies as a function of epoch number\n",
        "plt.figure(figsize=(8,5))\n",
        "\n",
        "plt.plot(np.arange(1,51,1), fit_model_lrelu.train_hist, 'm--', label='Leaky ReLU training')\n",
        "plt.plot(np.arange(1,51,1), fit_model_lrelu.test_hist, 'm-', label='Leaky ReLU test')\n",
        "\n",
        "plt.plot(np.arange(1,51,1), fit_model_tanh.train_hist, 'b--', label='Tanh training')\n",
        "plt.plot(np.arange(1,51,1), fit_model_tanh.test_hist, 'b-', label='Tanh test')\n",
        "\n",
        "plt.plot(np.arange(1,51,1), fit_model_2.train_hist, 'g--', label='ReLU training')\n",
        "plt.plot(np.arange(1,51,1), fit_model_2.test_hist, 'g-', label='ReLU test')\n",
        "\n",
        "plt.xlabel('Epoch')\n",
        "plt.ylabel('Accuracy')\n",
        "plt.title('Effect of activation function on MLP model performance')\n",
        "plt.legend()\n",
        "plt.show()"
      ],
      "metadata": {
        "id": "T64ybfQ8ut6f",
        "colab": {
          "base_uri": "https://localhost:8080/",
          "height": 350
        },
        "outputId": "11d9411a-a1e9-461c-f866-2cb7528ef03f"
      },
      "execution_count": null,
      "outputs": [
        {
          "output_type": "display_data",
          "data": {
            "text/plain": [
              "<Figure size 576x360 with 1 Axes>"
            ],
            "image/png": "[encoded data removed]"
          },
          "metadata": {
            "needs_background": "light"
          }
        }
      ]
    },
    {
      "cell_type": "markdown",
      "metadata": {
        "id": "qIerXC6Clx33"
      },
      "source": [
        "## 3.3 Adding regularization\n",
        "L1 and L2 regularization is added to a model with 2 hidden layers, 256 units, and ReLu activation."
      ]
    },
    {
      "cell_type": "code",
      "execution_count": null,
      "metadata": {
        "id": "xC7zcbk9lxiF"
      },
      "outputs": [],
      "source": [
        "class MLP_L1_L2:\n",
        "  def __init__(self, activ_func=None, dactiv_func=None, L=0, M=0, add_bias=True, l1_reg=False, l2_reg=False, reg_alpha=0.001, reg_lambda=0.001):\n",
        "    self.activ_func = activ_func\n",
        "    self.dactiv_func = dactiv_func\n",
        "    self.L = L\n",
        "    self.M = M\n",
        "    self.add_bias = add_bias\n",
        "    self.train_hist = []\n",
        "    self.test_hist = []\n",
        "    self.reg_alpha = reg_alpha\n",
        "    self.reg_lambda = reg_lambda\n",
        "    self.l1_reg = l1_reg\n",
        "    self.l2_reg = l2_reg\n",
        "    pass\n",
        "\n",
        "  def fit(self, x, y, optimizer):\n",
        "\n",
        "    def gradient(x, y, weights):\n",
        "      params = {}\n",
        "      N,D = x.shape\n",
        "\n",
        "      if self.add_bias:\n",
        "        x = np.column_stack([x,np.ones(N)])\n",
        "\n",
        "      # FORWARD PASS: get predicted y (i.e., yh) and value at each hidden layer\n",
        "      # 0 hidden layers\n",
        "      if self.L == 0:\n",
        "        params['q1'] = np.dot(x, weights['w1'])\n",
        "        params['yh'] = softmax(params['q1'])\n",
        "\n",
        "      # 1 hidden layer\n",
        "      if self.L == 1:\n",
        "        params['q1'] = np.dot(x, weights['w1'])\n",
        "        params['z1'] = self.activ_func(params['q1'])\n",
        "        params['q2'] = np.dot(params['z1'], weights['w2'])\n",
        "        params['yh'] = softmax(params['q2'])\n",
        "\n",
        "      # 2 hidden layers\n",
        "      if self.L == 2:\n",
        "        params['q1'] = np.dot(x, weights['w1'])\n",
        "        params['z1'] = self.activ_func(params['q1'])\n",
        "        params['q2'] = np.dot(params['z1'], weights['w2'])\n",
        "        params['z2'] = self.activ_func(params['q2'])\n",
        "        params['q3'] = np.dot(params['z2'], weights['w3'])\n",
        "        params['yh'] = softmax(params['q3'])\n",
        "\n",
        "\n",
        "      # BACKWARD PASS: get all partial derivatives using hidden layer values and yh computed above\n",
        "      dy = params['yh'] - y #N x C\n",
        "\n",
        "      # Gradients for 0 hidden layers\n",
        "      if self.L == 0:\n",
        "        dw = np.dot(x.T, dy)/N #D\n",
        "        dweights = {'w1':dw}\n",
        "        return dweights\n",
        "\n",
        "      # Gradients for 1 hidden layer\n",
        "      if self.L == 1:\n",
        "        dw2 = np.dot(params['z1'].T, dy)/N             # M x C\n",
        "\n",
        "        dz1 = np.dot(dy, weights['w2'].T) * self.dactiv_func(params['q1'])           # N x M\n",
        "        dw1 = np.dot(x.T, dz1)/N          # D x M\n",
        "\n",
        "        if self.l1_reg:\n",
        "            dw1 += self.reg_alpha * np.sign(weights['w1'])\n",
        "            dw2 += self.reg_alpha * np.sign(weights['w2'])\n",
        "        if self.l2_reg:\n",
        "            dw1 += self.reg_lambda * weights['w1']\n",
        "            dw2 += self.reg_lambda * weights['w2']\n",
        "\n",
        "        dweights = {'w1':dw1, 'w2':dw2}\n",
        "        return dweights\n",
        "\n",
        "      # Gradient for 2 hidden layers\n",
        "      elif self.L == 2:\n",
        "        dw3 = np.dot(params['z2'].T, dy)/N             # M x C\n",
        "\n",
        "        dz2 = np.dot(dy, weights['w3'].T) * self.dactiv_func(params['q2'])          # N x M\n",
        "        dw2 = np.dot(params['z1'].T, dz2)/N   # M x M\n",
        "\n",
        "        dz1 = np.dot(dz2, weights['w2'].T) * self.dactiv_func(params['q1'])        # N x M\n",
        "        dw1 = np.dot(x.T, dz1)/N       # D x M\n",
        "\n",
        "        # Apply regularization to the weight update\n",
        "        if self.l1_reg:\n",
        "          dw1 += self.reg_alpha * np.sign(dw1)\n",
        "          dw2 += self.reg_alpha * np.sign(dw2)\n",
        "          dw3 += self.reg_alpha * np.sign(dw3)\n",
        "        if self.l2_reg:\n",
        "          dw1 += self.reg_lambda * dw1\n",
        "          dw2 += self.reg_lambda * dw2\n",
        "          dw3 += self.reg_lambda * dw3\n",
        "\n",
        "\n",
        "        dweights = {'w1': dw1, 'w2':dw2, 'w3':dw3}\n",
        "        return dweights\n",
        "\n",
        "\n",
        "    # Initialize weight values to random integers\n",
        "    if self.add_bias:\n",
        "      b = 1\n",
        "    else:\n",
        "      b = 0\n",
        "\n",
        "    # 0 hidden layers\n",
        "    if self.L == 0:\n",
        "      weights0 = {'w1': np.random.randn(x.shape[1]+b, 10) * .01}         # D x C\n",
        "\n",
        "    # 1 hidden layer\n",
        "    elif self.L == 1:\n",
        "      weights0 = {'w1': np.random.randn(x.shape[1]+b, self.M+b) * .01,   # D x M\n",
        "                  'w2' : np.random.randn(self.M+b, 10) * .01}        # M x C\n",
        "\n",
        "    # 2 hidden layers\n",
        "    elif self.L == 2:\n",
        "      weights0 = {'w1': np.random.randn(x.shape[1]+b, self.M+b) * .01,\n",
        "                  'w2': np.random.randn(self.M+b, self.M+b) * .01,\n",
        "                  'w3': np.random.randn(self.M+b, 10) * .01}\n",
        "\n",
        "\n",
        "    # Run gradient descent\n",
        "    self.params = optimizer.run(gradient, x, y, weights0)\n",
        "\n",
        "    # Get training history accuracies\n",
        "    for weights in optimizer.w_hist:\n",
        "      yh_train = self.predict_w_weights(x_train_norm, weights)\n",
        "      self.train_hist.append(evaluate_acc(yh_train, y_train))\n",
        "\n",
        "      yh_test = self.predict_w_weights(x_test_norm, weights)\n",
        "      self.test_hist.append(evaluate_acc(yh_test, y_test))\n",
        "\n",
        "    return self\n",
        "\n",
        "\n",
        "  def predict_w_weights(self, x, weights):\n",
        "    if self.add_bias:\n",
        "        x = np.column_stack([x,np.ones(x.shape[0])])\n",
        "\n",
        "    # 0 hidden layers\n",
        "    if self.L == 0:\n",
        "      yh = softmax(np.dot(x, weights['w1']))\n",
        "\n",
        "    # 1 hidden layer\n",
        "    if self.L == 1:\n",
        "      z1 = self.activ_func(np.dot(x, weights['w1']))\n",
        "      yh = softmax(np.dot(z1, weights['w2']))\n",
        "\n",
        "    # 2 hidden layers\n",
        "    if self.L == 2:\n",
        "      z1 = self.activ_func(np.dot(x, weights['w1']))\n",
        "      z2 = self.activ_func(np.dot(z1, weights['w2']))\n",
        "      yh = softmax(np.dot(z2, weights['w3']))\n",
        "\n",
        "    return yh\n",
        "\n",
        "\n",
        "  def predict(self, x):\n",
        "    if self.add_bias:\n",
        "        x = np.column_stack([x,np.ones(x.shape[0])])\n",
        "\n",
        "    weights = self.params\n",
        "\n",
        "    # 0 hidden layers\n",
        "    if self.L == 0:\n",
        "      yh = softmax(np.dot(x, weights['w1']))\n",
        "\n",
        "    # 1 hidden layer\n",
        "    if self.L == 1:\n",
        "      z = self.activ_func(np.dot(x, weights['w1']))\n",
        "      yh = softmax(np.dot(z, weights['w2']))\n",
        "\n",
        "    # 2 hidden layers\n",
        "    if self.L == 2:\n",
        "      z1 = self.activ_func(np.dot(x, weights['w1']))\n",
        "      z2 = self.activ_func(np.dot(z1, weights['w2']))\n",
        "      yh = softmax(np.dot(z2, weights['w3']))\n",
        "    return yh"
      ]
    },
    {
      "cell_type": "code",
      "execution_count": null,
      "metadata": {
        "id": "sgkawfrp3bML"
      },
      "outputs": [],
      "source": [
        "#Create model\n",
        "model_l1 = MLP_L1_L2(relu, drelu, L=2, M=256, add_bias=True,l1_reg=True)\n",
        "model_l2 = MLP_L1_L2(relu, drelu, L=2, M=256, add_bias=True,l2_reg=True)\n",
        "\n",
        "optimizerl1 = GradientDescent(learning_rate=.01, epochs=50, batch_size=256)\n",
        "optimizerl2 = GradientDescent(learning_rate=.01, epochs=50, batch_size=256)\n",
        "\n",
        "#Get predictions\n",
        "fit_model_l1 = model_l1.fit(x_train_norm, y_train_oh, optimizerl1)\n",
        "fit_model_l2 = model_l2.fit(x_train_norm, y_train_oh, optimizerl2)\n"
      ]
    },
    {
      "cell_type": "code",
      "source": [
        "# Get accuracies\n",
        "print('L1 model train accuracy:', model_l1.train_hist[-1])\n",
        "print('L1 model test accuracy:', model_l1.test_hist[-1], '\\n')\n",
        "\n",
        "print('L2 model train accuracy:', model_l2.train_hist[-1])\n",
        "print('L2 model test accuracy:', model_l2.test_hist[-1])"
      ],
      "metadata": {
        "id": "ig7Bjoh5UiGW",
        "colab": {
          "base_uri": "https://localhost:8080/"
        },
        "outputId": "9285cf2d-b164-43c7-bbcf-9ac8e33fa368"
      },
      "execution_count": null,
      "outputs": [
        {
          "output_type": "stream",
          "name": "stdout",
          "text": [
            "L1 model train accuracy: 0.68432\n",
            "L1 model test accuracy: 0.5369 \n",
            "\n",
            "L2 model train accuracy: 0.64226\n",
            "L2 model test accuracy: 0.5379\n"
          ]
        }
      ]
    },
    {
      "cell_type": "code",
      "source": [
        "# Plot accuracies as a function of epoch number\n",
        "plt.figure(figsize=(8,5))\n",
        "\n",
        "plt.plot(np.arange(1,51,1), model_l1.train_hist, 'm--', label='L1 training')\n",
        "plt.plot(np.arange(1,51,1), model_l1.test_hist, 'm-', label='L1 test')\n",
        "\n",
        "plt.plot(np.arange(1,51,1), model_l2.train_hist, 'b--', label='L2 training')\n",
        "plt.plot(np.arange(1,51,1), model_l2.test_hist, 'b-', label='L2 test')\n",
        "\n",
        "plt.plot(np.arange(1,51,1), fit_model_2.train_hist, 'g--', label='None training')\n",
        "plt.plot(np.arange(1,51,1), fit_model_2.test_hist, 'g-', label='None test')\n",
        "\n",
        "plt.xlabel('Epoch')\n",
        "plt.ylabel('Accuracy')\n",
        "plt.title('Effect of regularzation function on MLP model performance')\n",
        "plt.legend()\n",
        "plt.show()"
      ],
      "metadata": {
        "id": "fFwwBI33WuMA",
        "colab": {
          "base_uri": "https://localhost:8080/"
        },
        "outputId": "760eadf6-34e1-4cec-f7c6-5643034d9c7f"
      },
      "execution_count": null,
      "outputs": [
        {
          "output_type": "display_data",
          "data": {
            "text/plain": [
              "<Figure size 576x360 with 1 Axes>"
            ],
            "image/png": "[encoded data removed]"
          },
          "metadata": {
            "needs_background": "light"
          }
        }
      ]
    },
    {
      "cell_type": "markdown",
      "metadata": {
        "id": "1aneEzAfmOMu"
      },
      "source": [
        "## 3.4 Training on unnormalized images\n",
        "Unnormalized images used to train a model with 2 hidden layers, 256 units, and ReLu activations."
      ]
    },
    {
      "cell_type": "code",
      "execution_count": null,
      "metadata": {
        "id": "uted821nVfGO"
      },
      "outputs": [],
      "source": [
        "#Create model\n",
        "model_unnorm = MLP(relu, drelu, L=2, M=256,add_bias=True)\n",
        "optimizer_unnorm = GradientDescent(learning_rate=.01, batch_size=256, epochs=50)\n",
        "\n",
        "#Get predictions\n",
        "# Be sure to change predictions in MLP class such that they predict on x_train_unnorm and x_test_unnorm\n",
        "x_train_unnorm = np.reshape(x_train, (50000, 3072))\n",
        "x_test_unnorm = np.reshape(x_test, (10000, 3072))\n",
        "fit_model_unnorm = model_unnorm.fit(x_train_unnorm, y_train_oh, optimizer_unnorm)"
      ]
    },
    {
      "cell_type": "code",
      "source": [
        "# Get Accuracies\n",
        "print('Un-normalized model train accuracy:', fit_model_unnorm.train_hist[-1])\n",
        "print('Un-normalized model test accuracy:', fit_model_unnorm.test_hist[-1])"
      ],
      "metadata": {
        "id": "6DGjt5X9VAmP",
        "colab": {
          "base_uri": "https://localhost:8080/"
        },
        "outputId": "5a7d2cd9-18a4-41f5-cee5-ada9bdac9d78"
      },
      "execution_count": null,
      "outputs": [
        {
          "output_type": "stream",
          "name": "stdout",
          "text": [
            "Un-normalized model train accuracy: 0.40004\n",
            "Un-normalized model test accuracy: 0.3957\n"
          ]
        }
      ]
    },
    {
      "cell_type": "code",
      "source": [
        "# Plot accuracies as a function of epoch number\n",
        "plt.figure(figsize=(8,5))\n",
        "\n",
        "plt.plot(np.arange(1,51,1), fit_model_2.train_hist, 'b--', label='ReLU training')\n",
        "plt.plot(np.arange(1,51,1), fit_model_2.test_hist, 'b-', label='ReLU test')\n",
        "\n",
        "plt.plot(np.arange(1,51,1), fit_model_unnorm.train_hist, 'g--', label='UnNorm ReLU training')\n",
        "plt.plot(np.arange(1,51,1), fit_model_unnorm.test_hist, 'g-', label='UnNorm ReLU test')\n",
        "\n",
        "plt.xlabel('Epoch')\n",
        "plt.ylabel('Accuracy')\n",
        "plt.title('Effect of Normalization on MLP model performance')\n",
        "plt.legend()\n",
        "plt.show()"
      ],
      "metadata": {
        "id": "ctP8b8-Qv4Uv",
        "colab": {
          "base_uri": "https://localhost:8080/",
          "height": 350
        },
        "outputId": "03709920-b27e-4490-9b7f-db8bfc194faf"
      },
      "execution_count": null,
      "outputs": [
        {
          "output_type": "display_data",
          "data": {
            "text/plain": [
              "<Figure size 576x360 with 1 Axes>"
            ],
            "image/png": "[encoded data removed]"
          },
          "metadata": {
            "needs_background": "light"
          }
        }
      ]
    },
    {
      "cell_type": "markdown",
      "metadata": {
        "id": "Y0QQnXnwmnY1"
      },
      "source": [
        "## 3.5 Comparison with convolutional neural networks\n",
        "CNN with 2 convolutional and 2 fully connected layers. 256 units in the fully connected layers. ReLu activation for all layers."
      ]
    },
    {
      "cell_type": "code",
      "execution_count": null,
      "metadata": {
        "id": "gGmYEgt4nZkX"
      },
      "outputs": [],
      "source": [
        "CNN_model = models.Sequential([\n",
        "    layers.Conv2D(32, (3, 3), activation='relu', input_shape=(32, 32, 3), padding='same'),\n",
        "    layers.MaxPooling2D(2,2),\n",
        "    layers.Conv2D(64, (5, 5), activation='relu', padding='same'),\n",
        "    layers.MaxPooling2D(2,2),\n",
        "    layers.Flatten(),\n",
        "    layers.Dense(256, activation='relu'),\n",
        "    layers.Dropout(0.5),\n",
        "    layers.Dense(256, activation='relu'),\n",
        "    layers.Dropout(0.5),\n",
        "    layers.Dense(10, activation='softmax')\n",
        "])\n",
        "\n",
        "# Compile model\n",
        "opt = tf.keras.optimizers.SGD(learning_rate=0.001, momentum=0.9)\n",
        "CNN_model.compile(optimizer=opt, loss='categorical_crossentropy', metrics=['accuracy'])\n",
        "\n",
        "# Train model\n",
        "history = CNN_model.fit(x_train_norm_cnn, y_train_oh, epochs=20, validation_data = (x_test_norm_cnn, y_test_oh), batch_size = 32)\n",
        "\n",
        "# Evaluate model on test set\n",
        "test_loss, test_acc = CNN_model.evaluate(x_test_norm_cnn, y_test_oh, verbose=2)\n",
        "print('Test accuracy:', test_acc)\n",
        "\n",
        "# Plot accuracy\n",
        "plt.plot(history.history['accuracy'], label='train')\n",
        "plt.plot(history.history['val_accuracy'], label='test')\n",
        "plt.title('CNN Model accuracy')\n",
        "plt.xlabel('Epoch')\n",
        "plt.xticks(range(0,20,2))\n",
        "plt.ylabel('Accuracy')\n",
        "plt.legend()\n",
        "plt.show()\n",
        "\n",
        "# Plot loss\n",
        "plt.plot(history.history['loss'], label='train')\n",
        "plt.plot(history.history['val_loss'], label='test')\n",
        "plt.title('CNN Model loss')\n",
        "plt.xlabel('Epoch')\n",
        "plt.ylabel('Loss')\n",
        "plt.legend()\n",
        "plt.show()"
      ]
    },
    {
      "cell_type": "markdown",
      "metadata": {
        "id": "tuKh0J_tnaTK"
      },
      "source": [
        "## 3.6 Pre-trained ResNet50 CNN\n",
        "All fully connected layers of a pre-trained model are removed. 3 fully connected layers are added right after the convolutional layers. These fully connected layers are then trained on the CIFAR-10 dataset."
      ]
    },
    {
      "cell_type": "code",
      "execution_count": null,
      "metadata": {
        "id": "9bd9zimywX8c",
        "colab": {
          "base_uri": "https://localhost:8080/",
          "height": 468
        },
        "outputId": "03cb0f28-1890-42c1-bcd5-657cab53a6d3"
      },
      "outputs": [
        {
          "output_type": "stream",
          "name": "stdout",
          "text": [
            "Epoch 1/20\n",
            " 41/391 [==>...........................] - ETA: 3:18:56 - loss: 1.4810 - accuracy: 0.4962"
          ]
        },
        {
          "output_type": "error",
          "ename": "KeyboardInterrupt",
          "evalue": "ignored",
          "traceback": [
            "\u001b[0;31m---------------------------------------------------------------------------\u001b[0m",
            "\u001b[0;31mKeyboardInterrupt\u001b[0m                         Traceback (most recent call last)",
            "\u001b[0;32m<ipython-input-22-b5b14ae94037>\u001b[0m in \u001b[0;36m<module>\u001b[0;34m\u001b[0m\n\u001b[1;32m     25\u001b[0m \u001b[0;34m\u001b[0m\u001b[0m\n\u001b[1;32m     26\u001b[0m \u001b[0mRN50_model\u001b[0m\u001b[0;34m.\u001b[0m\u001b[0mcompile\u001b[0m\u001b[0;34m(\u001b[0m\u001b[0moptimizer\u001b[0m \u001b[0;34m=\u001b[0m \u001b[0mSGD\u001b[0m\u001b[0;34m(\u001b[0m\u001b[0mlearning_rate\u001b[0m \u001b[0;34m=\u001b[0m \u001b[0;36m0.1\u001b[0m\u001b[0;34m)\u001b[0m\u001b[0;34m,\u001b[0m \u001b[0mloss\u001b[0m \u001b[0;34m=\u001b[0m \u001b[0;34m'categorical_crossentropy'\u001b[0m\u001b[0;34m,\u001b[0m \u001b[0mmetrics\u001b[0m \u001b[0;34m=\u001b[0m \u001b[0;34m[\u001b[0m\u001b[0;34m'accuracy'\u001b[0m\u001b[0;34m]\u001b[0m\u001b[0;34m)\u001b[0m\u001b[0;34m\u001b[0m\u001b[0;34m\u001b[0m\u001b[0m\n\u001b[0;32m---> 27\u001b[0;31m \u001b[0mhistory\u001b[0m \u001b[0;34m=\u001b[0m \u001b[0mRN50_model\u001b[0m\u001b[0;34m.\u001b[0m\u001b[0mfit\u001b[0m\u001b[0;34m(\u001b[0m\u001b[0mx\u001b[0m \u001b[0;34m=\u001b[0m \u001b[0mx_train_rn\u001b[0m\u001b[0;34m,\u001b[0m \u001b[0my\u001b[0m \u001b[0;34m=\u001b[0m \u001b[0my_train_rn\u001b[0m\u001b[0;34m,\u001b[0m \u001b[0mepochs\u001b[0m \u001b[0;34m=\u001b[0m \u001b[0;36m20\u001b[0m\u001b[0;34m,\u001b[0m \u001b[0mbatch_size\u001b[0m \u001b[0;34m=\u001b[0m \u001b[0;36m128\u001b[0m\u001b[0;34m,\u001b[0m \u001b[0mvalidation_data\u001b[0m\u001b[0;34m=\u001b[0m\u001b[0;34m(\u001b[0m\u001b[0mx_test_rn\u001b[0m\u001b[0;34m,\u001b[0m \u001b[0my_test_rn\u001b[0m\u001b[0;34m)\u001b[0m\u001b[0;34m)\u001b[0m\u001b[0;34m\u001b[0m\u001b[0;34m\u001b[0m\u001b[0m\n\u001b[0m\u001b[1;32m     28\u001b[0m \u001b[0;34m\u001b[0m\u001b[0m\n\u001b[1;32m     29\u001b[0m \u001b[0mtest_loss\u001b[0m\u001b[0;34m,\u001b[0m \u001b[0mtest_acc\u001b[0m \u001b[0;34m=\u001b[0m \u001b[0mRN50_model\u001b[0m\u001b[0;34m.\u001b[0m\u001b[0mevaluate\u001b[0m\u001b[0;34m(\u001b[0m\u001b[0mx_test_rn\u001b[0m\u001b[0;34m,\u001b[0m \u001b[0my_test_rn\u001b[0m\u001b[0;34m,\u001b[0m \u001b[0mverbose\u001b[0m\u001b[0;34m=\u001b[0m\u001b[0;36m2\u001b[0m\u001b[0;34m)\u001b[0m\u001b[0;34m\u001b[0m\u001b[0;34m\u001b[0m\u001b[0m\n",
            "\u001b[0;32m/usr/local/lib/python3.9/dist-packages/keras/utils/traceback_utils.py\u001b[0m in \u001b[0;36merror_handler\u001b[0;34m(*args, **kwargs)\u001b[0m\n\u001b[1;32m     63\u001b[0m         \u001b[0mfiltered_tb\u001b[0m \u001b[0;34m=\u001b[0m \u001b[0;32mNone\u001b[0m\u001b[0;34m\u001b[0m\u001b[0;34m\u001b[0m\u001b[0m\n\u001b[1;32m     64\u001b[0m         \u001b[0;32mtry\u001b[0m\u001b[0;34m:\u001b[0m\u001b[0;34m\u001b[0m\u001b[0;34m\u001b[0m\u001b[0m\n\u001b[0;32m---> 65\u001b[0;31m             \u001b[0;32mreturn\u001b[0m \u001b[0mfn\u001b[0m\u001b[0;34m(\u001b[0m\u001b[0;34m*\u001b[0m\u001b[0margs\u001b[0m\u001b[0;34m,\u001b[0m \u001b[0;34m**\u001b[0m\u001b[0mkwargs\u001b[0m\u001b[0;34m)\u001b[0m\u001b[0;34m\u001b[0m\u001b[0;34m\u001b[0m\u001b[0m\n\u001b[0m\u001b[1;32m     66\u001b[0m         \u001b[0;32mexcept\u001b[0m \u001b[0mException\u001b[0m \u001b[0;32mas\u001b[0m \u001b[0me\u001b[0m\u001b[0;34m:\u001b[0m\u001b[0;34m\u001b[0m\u001b[0;34m\u001b[0m\u001b[0m\n\u001b[1;32m     67\u001b[0m             \u001b[0mfiltered_tb\u001b[0m \u001b[0;34m=\u001b[0m \u001b[0m_process_traceback_frames\u001b[0m\u001b[0;34m(\u001b[0m\u001b[0me\u001b[0m\u001b[0;34m.\u001b[0m\u001b[0m__traceback__\u001b[0m\u001b[0;34m)\u001b[0m\u001b[0;34m\u001b[0m\u001b[0;34m\u001b[0m\u001b[0m\n",
            "\u001b[0;32m/usr/local/lib/python3.9/dist-packages/keras/engine/training.py\u001b[0m in \u001b[0;36mfit\u001b[0;34m(self, x, y, batch_size, epochs, verbose, callbacks, validation_split, validation_data, shuffle, class_weight, sample_weight, initial_epoch, steps_per_epoch, validation_steps, validation_batch_size, validation_freq, max_queue_size, workers, use_multiprocessing)\u001b[0m\n\u001b[1;32m   1648\u001b[0m                         ):\n\u001b[1;32m   1649\u001b[0m                             \u001b[0mcallbacks\u001b[0m\u001b[0;34m.\u001b[0m\u001b[0mon_train_batch_begin\u001b[0m\u001b[0;34m(\u001b[0m\u001b[0mstep\u001b[0m\u001b[0;34m)\u001b[0m\u001b[0;34m\u001b[0m\u001b[0;34m\u001b[0m\u001b[0m\n\u001b[0;32m-> 1650\u001b[0;31m                             \u001b[0mtmp_logs\u001b[0m \u001b[0;34m=\u001b[0m \u001b[0mself\u001b[0m\u001b[0;34m.\u001b[0m\u001b[0mtrain_function\u001b[0m\u001b[0;34m(\u001b[0m\u001b[0miterator\u001b[0m\u001b[0;34m)\u001b[0m\u001b[0;34m\u001b[0m\u001b[0;34m\u001b[0m\u001b[0m\n\u001b[0m\u001b[1;32m   1651\u001b[0m                             \u001b[0;32mif\u001b[0m \u001b[0mdata_handler\u001b[0m\u001b[0;34m.\u001b[0m\u001b[0mshould_sync\u001b[0m\u001b[0;34m:\u001b[0m\u001b[0;34m\u001b[0m\u001b[0;34m\u001b[0m\u001b[0m\n\u001b[1;32m   1652\u001b[0m                                 \u001b[0mcontext\u001b[0m\u001b[0;34m.\u001b[0m\u001b[0masync_wait\u001b[0m\u001b[0;34m(\u001b[0m\u001b[0;34m)\u001b[0m\u001b[0;34m\u001b[0m\u001b[0;34m\u001b[0m\u001b[0m\n",
            "\u001b[0;32m/usr/local/lib/python3.9/dist-packages/tensorflow/python/util/traceback_utils.py\u001b[0m in \u001b[0;36merror_handler\u001b[0;34m(*args, **kwargs)\u001b[0m\n\u001b[1;32m    148\u001b[0m     \u001b[0mfiltered_tb\u001b[0m \u001b[0;34m=\u001b[0m \u001b[0;32mNone\u001b[0m\u001b[0;34m\u001b[0m\u001b[0;34m\u001b[0m\u001b[0m\n\u001b[1;32m    149\u001b[0m     \u001b[0;32mtry\u001b[0m\u001b[0;34m:\u001b[0m\u001b[0;34m\u001b[0m\u001b[0;34m\u001b[0m\u001b[0m\n\u001b[0;32m--> 150\u001b[0;31m       \u001b[0;32mreturn\u001b[0m \u001b[0mfn\u001b[0m\u001b[0;34m(\u001b[0m\u001b[0;34m*\u001b[0m\u001b[0margs\u001b[0m\u001b[0;34m,\u001b[0m \u001b[0;34m**\u001b[0m\u001b[0mkwargs\u001b[0m\u001b[0;34m)\u001b[0m\u001b[0;34m\u001b[0m\u001b[0;34m\u001b[0m\u001b[0m\n\u001b[0m\u001b[1;32m    151\u001b[0m     \u001b[0;32mexcept\u001b[0m \u001b[0mException\u001b[0m \u001b[0;32mas\u001b[0m \u001b[0me\u001b[0m\u001b[0;34m:\u001b[0m\u001b[0;34m\u001b[0m\u001b[0;34m\u001b[0m\u001b[0m\n\u001b[1;32m    152\u001b[0m       \u001b[0mfiltered_tb\u001b[0m \u001b[0;34m=\u001b[0m \u001b[0m_process_traceback_frames\u001b[0m\u001b[0;34m(\u001b[0m\u001b[0me\u001b[0m\u001b[0;34m.\u001b[0m\u001b[0m__traceback__\u001b[0m\u001b[0;34m)\u001b[0m\u001b[0;34m\u001b[0m\u001b[0;34m\u001b[0m\u001b[0m\n",
            "\u001b[0;32m/usr/local/lib/python3.9/dist-packages/tensorflow/python/eager/polymorphic_function/polymorphic_function.py\u001b[0m in \u001b[0;36m__call__\u001b[0;34m(self, *args, **kwds)\u001b[0m\n\u001b[1;32m    878\u001b[0m \u001b[0;34m\u001b[0m\u001b[0m\n\u001b[1;32m    879\u001b[0m       \u001b[0;32mwith\u001b[0m \u001b[0mOptionalXlaContext\u001b[0m\u001b[0;34m(\u001b[0m\u001b[0mself\u001b[0m\u001b[0;34m.\u001b[0m\u001b[0m_jit_compile\u001b[0m\u001b[0;34m)\u001b[0m\u001b[0;34m:\u001b[0m\u001b[0;34m\u001b[0m\u001b[0;34m\u001b[0m\u001b[0m\n\u001b[0;32m--> 880\u001b[0;31m         \u001b[0mresult\u001b[0m \u001b[0;34m=\u001b[0m \u001b[0mself\u001b[0m\u001b[0;34m.\u001b[0m\u001b[0m_call\u001b[0m\u001b[0;34m(\u001b[0m\u001b[0;34m*\u001b[0m\u001b[0margs\u001b[0m\u001b[0;34m,\u001b[0m \u001b[0;34m**\u001b[0m\u001b[0mkwds\u001b[0m\u001b[0;34m)\u001b[0m\u001b[0;34m\u001b[0m\u001b[0;34m\u001b[0m\u001b[0m\n\u001b[0m\u001b[1;32m    881\u001b[0m \u001b[0;34m\u001b[0m\u001b[0m\n\u001b[1;32m    882\u001b[0m       \u001b[0mnew_tracing_count\u001b[0m \u001b[0;34m=\u001b[0m \u001b[0mself\u001b[0m\u001b[0;34m.\u001b[0m\u001b[0mexperimental_get_tracing_count\u001b[0m\u001b[0;34m(\u001b[0m\u001b[0;34m)\u001b[0m\u001b[0;34m\u001b[0m\u001b[0;34m\u001b[0m\u001b[0m\n",
            "\u001b[0;32m/usr/local/lib/python3.9/dist-packages/tensorflow/python/eager/polymorphic_function/polymorphic_function.py\u001b[0m in \u001b[0;36m_call\u001b[0;34m(self, *args, **kwds)\u001b[0m\n\u001b[1;32m    910\u001b[0m       \u001b[0;31m# In this case we have created variables on the first call, so we run the\u001b[0m\u001b[0;34m\u001b[0m\u001b[0;34m\u001b[0m\u001b[0m\n\u001b[1;32m    911\u001b[0m       \u001b[0;31m# defunned version which is guaranteed to never create variables.\u001b[0m\u001b[0;34m\u001b[0m\u001b[0;34m\u001b[0m\u001b[0m\n\u001b[0;32m--> 912\u001b[0;31m       \u001b[0;32mreturn\u001b[0m \u001b[0mself\u001b[0m\u001b[0;34m.\u001b[0m\u001b[0m_no_variable_creation_fn\u001b[0m\u001b[0;34m(\u001b[0m\u001b[0;34m*\u001b[0m\u001b[0margs\u001b[0m\u001b[0;34m,\u001b[0m \u001b[0;34m**\u001b[0m\u001b[0mkwds\u001b[0m\u001b[0;34m)\u001b[0m  \u001b[0;31m# pylint: disable=not-callable\u001b[0m\u001b[0;34m\u001b[0m\u001b[0;34m\u001b[0m\u001b[0m\n\u001b[0m\u001b[1;32m    913\u001b[0m     \u001b[0;32melif\u001b[0m \u001b[0mself\u001b[0m\u001b[0;34m.\u001b[0m\u001b[0m_variable_creation_fn\u001b[0m \u001b[0;32mis\u001b[0m \u001b[0;32mnot\u001b[0m \u001b[0;32mNone\u001b[0m\u001b[0;34m:\u001b[0m\u001b[0;34m\u001b[0m\u001b[0;34m\u001b[0m\u001b[0m\n\u001b[1;32m    914\u001b[0m       \u001b[0;31m# Release the lock early so that multiple threads can perform the call\u001b[0m\u001b[0;34m\u001b[0m\u001b[0;34m\u001b[0m\u001b[0m\n",
            "\u001b[0;32m/usr/local/lib/python3.9/dist-packages/tensorflow/python/eager/polymorphic_function/tracing_compiler.py\u001b[0m in \u001b[0;36m__call__\u001b[0;34m(self, *args, **kwargs)\u001b[0m\n\u001b[1;32m    132\u001b[0m       (concrete_function,\n\u001b[1;32m    133\u001b[0m        filtered_flat_args) = self._maybe_define_function(args, kwargs)\n\u001b[0;32m--> 134\u001b[0;31m     return concrete_function._call_flat(\n\u001b[0m\u001b[1;32m    135\u001b[0m         filtered_flat_args, captured_inputs=concrete_function.captured_inputs)  # pylint: disable=protected-access\n\u001b[1;32m    136\u001b[0m \u001b[0;34m\u001b[0m\u001b[0m\n",
            "\u001b[0;32m/usr/local/lib/python3.9/dist-packages/tensorflow/python/eager/polymorphic_function/monomorphic_function.py\u001b[0m in \u001b[0;36m_call_flat\u001b[0;34m(self, args, captured_inputs, cancellation_manager)\u001b[0m\n\u001b[1;32m   1743\u001b[0m         and executing_eagerly):\n\u001b[1;32m   1744\u001b[0m       \u001b[0;31m# No tape is watching; skip to running the function.\u001b[0m\u001b[0;34m\u001b[0m\u001b[0;34m\u001b[0m\u001b[0m\n\u001b[0;32m-> 1745\u001b[0;31m       return self._build_call_outputs(self._inference_function.call(\n\u001b[0m\u001b[1;32m   1746\u001b[0m           ctx, args, cancellation_manager=cancellation_manager))\n\u001b[1;32m   1747\u001b[0m     forward_backward = self._select_forward_and_backward_functions(\n",
            "\u001b[0;32m/usr/local/lib/python3.9/dist-packages/tensorflow/python/eager/polymorphic_function/monomorphic_function.py\u001b[0m in \u001b[0;36mcall\u001b[0;34m(self, ctx, args, cancellation_manager)\u001b[0m\n\u001b[1;32m    376\u001b[0m       \u001b[0;32mwith\u001b[0m \u001b[0m_InterpolateFunctionError\u001b[0m\u001b[0;34m(\u001b[0m\u001b[0mself\u001b[0m\u001b[0;34m)\u001b[0m\u001b[0;34m:\u001b[0m\u001b[0;34m\u001b[0m\u001b[0;34m\u001b[0m\u001b[0m\n\u001b[1;32m    377\u001b[0m         \u001b[0;32mif\u001b[0m \u001b[0mcancellation_manager\u001b[0m \u001b[0;32mis\u001b[0m \u001b[0;32mNone\u001b[0m\u001b[0;34m:\u001b[0m\u001b[0;34m\u001b[0m\u001b[0;34m\u001b[0m\u001b[0m\n\u001b[0;32m--> 378\u001b[0;31m           outputs = execute.execute(\n\u001b[0m\u001b[1;32m    379\u001b[0m               \u001b[0mstr\u001b[0m\u001b[0;34m(\u001b[0m\u001b[0mself\u001b[0m\u001b[0;34m.\u001b[0m\u001b[0msignature\u001b[0m\u001b[0;34m.\u001b[0m\u001b[0mname\u001b[0m\u001b[0;34m)\u001b[0m\u001b[0;34m,\u001b[0m\u001b[0;34m\u001b[0m\u001b[0;34m\u001b[0m\u001b[0m\n\u001b[1;32m    380\u001b[0m               \u001b[0mnum_outputs\u001b[0m\u001b[0;34m=\u001b[0m\u001b[0mself\u001b[0m\u001b[0;34m.\u001b[0m\u001b[0m_num_outputs\u001b[0m\u001b[0;34m,\u001b[0m\u001b[0;34m\u001b[0m\u001b[0;34m\u001b[0m\u001b[0m\n",
            "\u001b[0;32m/usr/local/lib/python3.9/dist-packages/tensorflow/python/eager/execute.py\u001b[0m in \u001b[0;36mquick_execute\u001b[0;34m(op_name, num_outputs, inputs, attrs, ctx, name)\u001b[0m\n\u001b[1;32m     50\u001b[0m   \u001b[0;32mtry\u001b[0m\u001b[0;34m:\u001b[0m\u001b[0;34m\u001b[0m\u001b[0;34m\u001b[0m\u001b[0m\n\u001b[1;32m     51\u001b[0m     \u001b[0mctx\u001b[0m\u001b[0;34m.\u001b[0m\u001b[0mensure_initialized\u001b[0m\u001b[0;34m(\u001b[0m\u001b[0;34m)\u001b[0m\u001b[0;34m\u001b[0m\u001b[0;34m\u001b[0m\u001b[0m\n\u001b[0;32m---> 52\u001b[0;31m     tensors = pywrap_tfe.TFE_Py_Execute(ctx._handle, device_name, op_name,\n\u001b[0m\u001b[1;32m     53\u001b[0m                                         inputs, attrs, num_outputs)\n\u001b[1;32m     54\u001b[0m   \u001b[0;32mexcept\u001b[0m \u001b[0mcore\u001b[0m\u001b[0;34m.\u001b[0m\u001b[0m_NotOkStatusException\u001b[0m \u001b[0;32mas\u001b[0m \u001b[0me\u001b[0m\u001b[0;34m:\u001b[0m\u001b[0;34m\u001b[0m\u001b[0;34m\u001b[0m\u001b[0m\n",
            "\u001b[0;31mKeyboardInterrupt\u001b[0m: "
          ]
        }
      ],
      "source": [
        "base_model = ResNet50(weights = 'imagenet', include_top = False, pooling ='max', classes = 10)\n",
        "\n",
        "#Freeze all convolutional layers\n",
        "for layer in base_model.layers:\n",
        "  layer.trainable = False\n",
        "\n",
        "RN50_model = Sequential()\n",
        "RN50_model.add(UpSampling2D())\n",
        "RN50_model.add(UpSampling2D ())\n",
        "RN50_model.add (UpSampling2D ())\n",
        "RN50_model.add(base_model)\n",
        "\n",
        "#Remove fully connected layers\n",
        "RN50_model.add(Flatten())\n",
        "\n",
        "#Adding a number of fully connected layers\n",
        "RN50_model.add(BatchNormalization())\n",
        "RN50_model.add (Dense (128, activation='relu' ))\n",
        "RN50_model.add(Dropout (0.2))\n",
        "RN50_model.add(BatchNormalization())\n",
        "RN50_model.add(Dense (64, activation= 'relu'))\n",
        "RN50_model.add(Dropout (0.2))\n",
        "RN50_model.add(BatchNormalization())\n",
        "RN50_model.add(Dense (10, activation = 'softmax'))\n",
        "\n",
        "RN50_model.compile(optimizer = SGD(learning_rate = 0.1), loss = 'categorical_crossentropy', metrics = ['accuracy'])\n",
        "history = RN50_model.fit(x = x_train_rn, y = y_train_rn, epochs = 20, batch_size = 128, validation_data=(x_test_rn, y_test_rn))\n",
        "\n",
        "test_loss, test_acc = RN50_model.evaluate(x_test_rn, y_test_rn, verbose=2)\n",
        "print('Test accuracy:', test_acc)\n",
        "\n",
        "# Plot accuracy\n",
        "plt.plot(history.history['accuracy'], label='Train')\n",
        "plt.plot(history.history['val_accuracy'], label='Test')\n",
        "plt.title('ResNet-50 Model Performance on CIFAR-10 Dataset')\n",
        "plt.xlabel('Epoch')\n",
        "plt.ylabel('Accuracy')\n",
        "plt.legend()\n",
        "plt.show()\n",
        "\n",
        "# Plot loss\n",
        "plt.plot(history.history['loss'], label='Train')\n",
        "plt.plot(history.history['val_loss'], label='Test')\n",
        "plt.title('Model loss')\n",
        "plt.xlabel('Epoch')\n",
        "plt.ylabel('Loss')\n",
        "plt.legend()\n",
        "plt.show()"
      ]
    },
    {
      "cell_type": "markdown",
      "source": [
        "## 3.7 Analysing the effect of model width"
      ],
      "metadata": {
        "id": "ZAxa1emXS--V"
      }
    },
    {
      "cell_type": "code",
      "source": [
        "#Create models\n",
        "model_128 = MLP(relu, drelu, L=2, M=128, add_bias=True)\n",
        "model_64 = MLP(relu, drelu, L=2, M=64,add_bias=True)\n",
        "\n",
        "optimizer_128 = GradientDescent(learning_rate=.01, epochs=50, batch_size=256)\n",
        "optimizer_64 = GradientDescent(learning_rate=.01, epochs=50, batch_size=256)\n",
        "\n",
        "#Get predictions\n",
        "fit_model_128 = model_128.fit(x_train_norm, y_train_oh, optimizer_128)\n",
        "fit_model_64 = model_64.fit(x_train_norm, y_train_oh, optimizer_64)"
      ],
      "metadata": {
        "id": "8OlYHvvMS9No"
      },
      "execution_count": null,
      "outputs": []
    },
    {
      "cell_type": "code",
      "source": [
        "# Get accuracies\n",
        "print('64 hidden unit model train accuracy:', fit_model_64.train_hist[-1])\n",
        "print('64 hidden unit model test accuracy:', fit_model_64.test_hist[-1], '\\n')\n",
        "\n",
        "print('128 hidden unit model train accuracy:', fit_model_128.train_hist[-1])\n",
        "print('128 hidden unit model test accuracy:', fit_model_128.test_hist[-1])"
      ],
      "metadata": {
        "id": "DmAGy28CdnZy",
        "colab": {
          "base_uri": "https://localhost:8080/"
        },
        "outputId": "c42a301c-cee2-419a-f21e-39d8dbf8a086"
      },
      "execution_count": null,
      "outputs": [
        {
          "output_type": "stream",
          "name": "stdout",
          "text": [
            "64 hidden unit model train accuracy: 0.5495\n",
            "64 hidden unit model test accuracy: 0.4979 \n",
            "\n",
            "128 hidden unit model train accuracy: 0.59314\n",
            "128 hidden unit model test accuracy: 0.5213\n"
          ]
        }
      ]
    },
    {
      "cell_type": "code",
      "source": [
        "# Plot accuracies as a function of epoch number\n",
        "plt.figure(figsize=(8,5))\n",
        "\n",
        "plt.plot(np.arange(1,51,1), fit_model_64.train_hist, 'm--', label='M=64 training')\n",
        "plt.plot(np.arange(1,51,1), fit_model_64.test_hist, 'm-', label='M=64 test')\n",
        "\n",
        "plt.plot(np.arange(1,51,1), fit_model_128.train_hist, 'b--', label='M=128 training')\n",
        "plt.plot(np.arange(1,51,1), fit_model_128.test_hist, 'b-', label='M=128 test')\n",
        "\n",
        "plt.plot(np.arange(1,51,1), fit_model_2.train_hist, 'g--', label='M=256 training')\n",
        "plt.plot(np.arange(1,51,1), fit_model_2.test_hist, 'g-', label='M=256 test')\n",
        "\n",
        "plt.xlabel('Epoch')\n",
        "plt.ylabel('Accuracy')\n",
        "plt.title('Effect of network width on MLP model performance')\n",
        "plt.legend()\n",
        "plt.show()"
      ],
      "metadata": {
        "id": "X2x94krado38",
        "colab": {
          "base_uri": "https://localhost:8080/",
          "height": 543
        },
        "outputId": "0a578aac-87b6-4f7d-fd2a-c43ac96c95ce"
      },
      "execution_count": null,
      "outputs": [
        {
          "output_type": "error",
          "ename": "NameError",
          "evalue": "ignored",
          "traceback": [
            "\u001b[0;31m---------------------------------------------------------------------------\u001b[0m",
            "\u001b[0;31mNameError\u001b[0m                                 Traceback (most recent call last)",
            "\u001b[0;32m<ipython-input-15-5cdd709c4a63>\u001b[0m in \u001b[0;36m<module>\u001b[0;34m\u001b[0m\n\u001b[1;32m      8\u001b[0m \u001b[0mplt\u001b[0m\u001b[0;34m.\u001b[0m\u001b[0mplot\u001b[0m\u001b[0;34m(\u001b[0m\u001b[0mnp\u001b[0m\u001b[0;34m.\u001b[0m\u001b[0marange\u001b[0m\u001b[0;34m(\u001b[0m\u001b[0;36m1\u001b[0m\u001b[0;34m,\u001b[0m\u001b[0;36m51\u001b[0m\u001b[0;34m,\u001b[0m\u001b[0;36m1\u001b[0m\u001b[0;34m)\u001b[0m\u001b[0;34m,\u001b[0m \u001b[0mfit_model_128\u001b[0m\u001b[0;34m.\u001b[0m\u001b[0mtest_hist\u001b[0m\u001b[0;34m,\u001b[0m \u001b[0;34m'b-'\u001b[0m\u001b[0;34m,\u001b[0m \u001b[0mlabel\u001b[0m\u001b[0;34m=\u001b[0m\u001b[0;34m'M=128 test'\u001b[0m\u001b[0;34m)\u001b[0m\u001b[0;34m\u001b[0m\u001b[0;34m\u001b[0m\u001b[0m\n\u001b[1;32m      9\u001b[0m \u001b[0;34m\u001b[0m\u001b[0m\n\u001b[0;32m---> 10\u001b[0;31m \u001b[0mplt\u001b[0m\u001b[0;34m.\u001b[0m\u001b[0mplot\u001b[0m\u001b[0;34m(\u001b[0m\u001b[0mnp\u001b[0m\u001b[0;34m.\u001b[0m\u001b[0marange\u001b[0m\u001b[0;34m(\u001b[0m\u001b[0;36m1\u001b[0m\u001b[0;34m,\u001b[0m\u001b[0;36m51\u001b[0m\u001b[0;34m,\u001b[0m\u001b[0;36m1\u001b[0m\u001b[0;34m)\u001b[0m\u001b[0;34m,\u001b[0m \u001b[0mfit_model_2\u001b[0m\u001b[0;34m.\u001b[0m\u001b[0mtrain_hist\u001b[0m\u001b[0;34m,\u001b[0m \u001b[0;34m'g--'\u001b[0m\u001b[0;34m,\u001b[0m \u001b[0mlabel\u001b[0m\u001b[0;34m=\u001b[0m\u001b[0;34m'M=256 training'\u001b[0m\u001b[0;34m)\u001b[0m\u001b[0;34m\u001b[0m\u001b[0;34m\u001b[0m\u001b[0m\n\u001b[0m\u001b[1;32m     11\u001b[0m \u001b[0mplt\u001b[0m\u001b[0;34m.\u001b[0m\u001b[0mplot\u001b[0m\u001b[0;34m(\u001b[0m\u001b[0mnp\u001b[0m\u001b[0;34m.\u001b[0m\u001b[0marange\u001b[0m\u001b[0;34m(\u001b[0m\u001b[0;36m1\u001b[0m\u001b[0;34m,\u001b[0m\u001b[0;36m51\u001b[0m\u001b[0;34m,\u001b[0m\u001b[0;36m1\u001b[0m\u001b[0;34m)\u001b[0m\u001b[0;34m,\u001b[0m \u001b[0mfit_model_2\u001b[0m\u001b[0;34m.\u001b[0m\u001b[0mtest_hist\u001b[0m\u001b[0;34m,\u001b[0m \u001b[0;34m'g-'\u001b[0m\u001b[0;34m,\u001b[0m \u001b[0mlabel\u001b[0m\u001b[0;34m=\u001b[0m\u001b[0;34m'M=256 test'\u001b[0m\u001b[0;34m)\u001b[0m\u001b[0;34m\u001b[0m\u001b[0;34m\u001b[0m\u001b[0m\n\u001b[1;32m     12\u001b[0m \u001b[0;34m\u001b[0m\u001b[0m\n",
            "\u001b[0;31mNameError\u001b[0m: name 'fit_model_2' is not defined"
          ]
        },
        {
          "output_type": "display_data",
          "data": {
            "text/plain": [
              "<Figure size 576x360 with 1 Axes>"
            ],
            "image/png": "[encoded data removed]"
          },
          "metadata": {
            "needs_background": "light"
          }
        }
      ]
    },
    {
      "cell_type": "markdown",
      "source": [
        "# Appendix"
      ],
      "metadata": {
        "id": "LHdP5c_SnMRl"
      }
    },
    {
      "cell_type": "markdown",
      "source": [
        "## 3.1 Hyperparameter tuning"
      ],
      "metadata": {
        "id": "NIEx02rDnO2J"
      }
    },
    {
      "cell_type": "code",
      "source": [
        "# Select best learning rate\n",
        "learning_rates = [0.0001, 0.001, 0.01, 0.1]\n",
        "\n",
        "model_0_lr_train_accs = []\n",
        "model_0_lr_test_accs = []\n",
        "\n",
        "model_1_lr_train_accs = []\n",
        "model_1_lr_test_accs = []\n",
        "\n",
        "model_2_lr_train_accs = []\n",
        "model_2_lr_test_accs = []\n",
        "\n",
        "\n",
        "for lr in learning_rates:\n",
        "\n",
        "  # No hidden layers\n",
        "  optimizer_0 = GradientDescent(learning_rate=lr, epochs=50, batch_size=128)\n",
        "  model_0 = MLP(L=0, M=0, add_bias=True)\n",
        "  fit_model_0 = model_0.fit(x_train_norm, y_train_oh, optimizer_0)\n",
        "\n",
        "  model_0_lr_train_accs.append(fit_model_0.train_hist)\n",
        "  model_0_lr_test_accs.append(fit_model_0.test_hist)\n",
        "\n",
        "  # 1 hidden layer\n",
        "  optimizer_1 = GradientDescent(learning_rate=lr, epochs=50, batch_size=128)\n",
        "  model_1 = MLP(relu, drelu, L=1, M=256, add_bias=True)\n",
        "  fit_model_1 = model_1.fit(x_train_norm, y_train_oh, optimizer_1)\n",
        "\n",
        "  model_1_lr_train_accs.append(fit_model_1.train_hist)\n",
        "  model_1_lr_test_accs.append(fit_model_1.test_hist)\n",
        "\n",
        "  # 2 hidden layers\n",
        "  optimizer_2 = GradientDescent(learning_rate=lr, epochs=50, batch_size=128)\n",
        "  model_2 = MLP(relu, drelu, L=2, M=256, add_bias=True)\n",
        "  fit_model_2 = model_2.fit(x_train_norm, y_train_oh, optimizer_2)\n",
        "\n",
        "  model_2_lr_train_accs.append(fit_model_2.train_hist)\n",
        "  model_2_lr_test_accs.append(fit_model_2.test_hist)"
      ],
      "metadata": {
        "id": "1cHjE_AgYuhl"
      },
      "execution_count": null,
      "outputs": []
    },
    {
      "cell_type": "code",
      "source": [
        "plt.figure(figsize=(10,7))\n",
        "\n",
        "plt.plot(np.arange(1,51,1), model_0_lr_test_accs[0], 'r-', label='lr=0.0001')\n",
        "plt.plot(np.arange(1,51,1), model_0_lr_test_accs[1], 'm-', label='lr=0.001')\n",
        "plt.plot(np.arange(1,51,1), model_0_lr_test_accs[2], 'b-', label='lr=0.01')\n",
        "plt.plot(np.arange(1,51,1), model_0_lr_test_accs[3], 'g-', label='lr=0.1')\n",
        "plt.legend()\n",
        "plt.xlabel('Epoch')\n",
        "plt.ylabel('Accuracy')\n",
        "plt.title('Effect of learning rate on 0-layer MLP model performance')\n",
        "plt.show()"
      ],
      "metadata": {
        "id": "PXAPHPvEabtV"
      },
      "execution_count": null,
      "outputs": []
    },
    {
      "cell_type": "code",
      "source": [
        "plt.figure(figsize=(10,7))\n",
        "\n",
        "plt.plot(np.arange(1,51,1), model_1_lr_test_accs[0], 'r-', label='lr=0.0001')\n",
        "plt.plot(np.arange(1,51,1), model_1_lr_test_accs[1], 'm-', label='lr=0.001')\n",
        "plt.plot(np.arange(1,51,1), model_1_lr_test_accs[2], 'b-', label='lr=0.01')\n",
        "plt.plot(np.arange(1,51,1), model_1_lr_test_accs[3], 'g-', label='lr=0.1')\n",
        "plt.legend()\n",
        "plt.xlabel('Epoch')\n",
        "plt.ylabel('Accuracy')\n",
        "plt.title('Effect of learning rate on 1-layer MLP model performance')\n",
        "plt.show()"
      ],
      "metadata": {
        "id": "rAHEztv_amtl"
      },
      "execution_count": null,
      "outputs": []
    },
    {
      "cell_type": "code",
      "source": [
        "plt.figure(figsize=(10,7))\n",
        "\n",
        "plt.plot(np.arange(1,51,1), model_2_lr_test_accs[0], 'r-', label='lr=0.0001')\n",
        "plt.plot(np.arange(1,51,1), model_2_lr_test_accs[1], 'm-', label='lr=0.001')\n",
        "plt.plot(np.arange(1,51,1), model_2_lr_test_accs[2], 'b-', label='lr=0.01')\n",
        "plt.plot(np.arange(1,51,1), model_2_lr_test_accs[3], 'g-', label='lr=0.1')\n",
        "plt.legend()\n",
        "plt.xlabel('Epoch')\n",
        "plt.ylabel('Accuracy')\n",
        "plt.title('Effect of learning rate on 2-layer MLP model performance')\n",
        "plt.show()"
      ],
      "metadata": {
        "id": "IWoW6wb3anCy"
      },
      "execution_count": null,
      "outputs": []
    },
    {
      "cell_type": "code",
      "execution_count": null,
      "metadata": {
        "id": "Zxqo5r_Qfbhq"
      },
      "outputs": [],
      "source": [
        "# Select best batch size\n",
        "batch_sizes =  [64,128,256]\n",
        "\n",
        "model_0_bs_train_accs = []\n",
        "model_0_bs_test_accs = []\n",
        "\n",
        "model_1_bs_train_accs = []\n",
        "model_1_bs_test_accs = []\n",
        "\n",
        "model_2_bs_train_accs = []\n",
        "model_2_bs_test_accs = []\n",
        "\n",
        "\n",
        "for bs in batch_sizes:\n",
        "\n",
        "  # No hidden layers\n",
        "  optimizer_0 = GradientDescent(learning_rate=0.001, epochs=50, batch_size=bs)\n",
        "  model_0 = MLP(L=0, M=0, add_bias=True)\n",
        "  fit_model_0 = model_0.fit(x_train_norm, y_train_oh, optimizer_0)\n",
        "\n",
        "  model_0_bs_train_accs.append(fit_model_0.train_hist)\n",
        "  model_0_bs_test_accs.append(fit_model_0.test_hist)\n",
        "\n",
        "\n",
        "  # 1 hidden layer\n",
        "  optimizer_1 = GradientDescent(learning_rate=0.01, epochs=50, batch_size=bs)\n",
        "  model_1 = MLP(relu, drelu, L=1, M=256, add_bias=True)\n",
        "  fit_model_1 = model_1.fit(x_train_norm, y_train_oh, optimizer_1)\n",
        "\n",
        "  model_1_bs_train_accs.append(fit_model_1.train_hist)\n",
        "  model_1_bs_test_accs.append(fit_model_1.test_hist)\n",
        "\n",
        "  # 2 hidden layers\n",
        "  optimizer_2 = GradientDescent(learning_rate=0.01, epochs=50, batch_size=bs)\n",
        "  model_2 = MLP(relu, drelu, L=2, M=256, add_bias=True)\n",
        "  fit_model_2 = model_2.fit(x_train_norm, y_train_oh, optimizer_2)\n",
        "\n",
        "  model_2_bs_train_accs.append(fit_model_2.train_hist)\n",
        "  model_2_bs_test_accs.append(fit_model_2.test_hist)"
      ]
    },
    {
      "cell_type": "code",
      "source": [
        "plt.figure(figsize=(10,7))\n",
        "\n",
        "plt.plot(np.arange(1,51,1), model_0_bs_test_accs[0], 'm-', label='bs=64')\n",
        "plt.plot(np.arange(1,51,1), model_0_bs_test_accs[1], 'b-', label='bs=128')\n",
        "plt.plot(np.arange(1,51,1), model_0_bs_test_accs[2], 'g-', label='bs=256')\n",
        "plt.legend()\n",
        "plt.xlabel('Epoch')\n",
        "plt.ylabel('Accuracy')\n",
        "plt.title('Effect of batch size on 0-layer MLP model performance')\n",
        "plt.show()"
      ],
      "metadata": {
        "id": "oRWE6C6rrr_-",
        "colab": {
          "base_uri": "https://localhost:8080/",
          "height": 458
        },
        "outputId": "f8cf793a-85ad-4853-cda3-74d8d647a7ab"
      },
      "execution_count": null,
      "outputs": [
        {
          "output_type": "display_data",
          "data": {
            "text/plain": [
              "<Figure size 720x504 with 1 Axes>"
            ],
            "image/png": "[encoded data removed]"
          },
          "metadata": {
            "needs_background": "light"
          }
        }
      ]
    },
    {
      "cell_type": "code",
      "source": [
        "plt.figure(figsize=(10,7))\n",
        "\n",
        "plt.plot(np.arange(1,51,1), model_1_bs_test_accs[0], 'm-', label='bs=64')\n",
        "plt.plot(np.arange(1,51,1), model_1_bs_test_accs[1], 'b-', label='bs=128')\n",
        "plt.plot(np.arange(1,51,1), model_1_bs_test_accs[2], 'g-', label='bs=256')\n",
        "plt.legend()\n",
        "plt.xlabel('Epoch')\n",
        "plt.ylabel('Accuracy')\n",
        "plt.title('Effect of batch size on 1-layer MLP model performance')\n",
        "plt.show()"
      ],
      "metadata": {
        "id": "L01-oM0Ds2Cj",
        "colab": {
          "base_uri": "https://localhost:8080/",
          "height": 458
        },
        "outputId": "27328022-7b45-4d97-9c96-5c799fc2c6dc"
      },
      "execution_count": null,
      "outputs": [
        {
          "output_type": "display_data",
          "data": {
            "text/plain": [
              "<Figure size 720x504 with 1 Axes>"
            ],
            "image/png": "[encoded data removed]"
          },
          "metadata": {
            "needs_background": "light"
          }
        }
      ]
    },
    {
      "cell_type": "code",
      "source": [
        "plt.figure(figsize=(10,7))\n",
        "\n",
        "plt.plot(np.arange(1,51,1), model_2_bs_test_accs[0], 'm-', label='bs=64')\n",
        "plt.plot(np.arange(1,51,1), model_2_bs_test_accs[1], 'b-', label='bs=128')\n",
        "plt.plot(np.arange(1,51,1), model_2_bs_test_accs[2], 'g-', label='bs=256')\n",
        "plt.legend()\n",
        "plt.xlabel('Epoch')\n",
        "plt.ylabel('Accuracy')\n",
        "plt.title('Effect of batch size on 2-layer MLP model performance')\n",
        "plt.show()"
      ],
      "metadata": {
        "id": "YfDLVDuGs2b2",
        "colab": {
          "base_uri": "https://localhost:8080/",
          "height": 458
        },
        "outputId": "32726254-be1a-4973-d15b-3c0deff90d33"
      },
      "execution_count": null,
      "outputs": [
        {
          "output_type": "display_data",
          "data": {
            "text/plain": [
              "<Figure size 720x504 with 1 Axes>"
            ],
            "image/png": "[encoded data removed]"
          },
          "metadata": {
            "needs_background": "light"
          }
        }
      ]
    },
    {
      "cell_type": "markdown",
      "source": [
        "## 3.2 Hyperparameter tuning"
      ],
      "metadata": {
        "id": "tOBIrGG4nR-T"
      }
    },
    {
      "cell_type": "code",
      "source": [
        "# Select best learning rate\n",
        "learning_rates = [0.0001, 0.001, 0.01, 0.1]\n",
        "\n",
        "model_tanh_lr_train_accs = []\n",
        "model_tanh_lr_test_accs = []\n",
        "\n",
        "model_lrelu_lr_train_accs = []\n",
        "model_lrelu_lr_test_accs = []\n",
        "\n",
        "for lr in learning_rates:\n",
        "  # tanh\n",
        "  optimizer_tanh = GradientDescent(learning_rate=lr, epochs=50, batch_size=128)\n",
        "  model_tanh = MLP(tanh, dtanh, L=2, M=256, add_bias=True)\n",
        "  fit_model_tanh = model_tanh.fit(x_train_norm, y_train_oh, optimizer_tanh)\n",
        "\n",
        "  model_tanh_lr_train_accs.append(fit_model_tanh.train_hist)\n",
        "  model_tanh_lr_test_accs.append(fit_model_tanh.test_hist)\n",
        "\n",
        "  # Leaky ReLU\n",
        "  optimizer_lrelu = GradientDescent(learning_rate=lr, epochs=50, batch_size=128)\n",
        "  model_lrelu = MLP(leaky_relu, dleaky_relu, L=2, M=256, add_bias=True)\n",
        "  fit_model_lrelu = model_lrelu.fit(x_train_norm, y_train_oh, optimizer_lrelu)\n",
        "\n",
        "  model_lrelu_lr_train_accs.append(fit_model_lrelu.train_hist)\n",
        "  model_lrelu_lr_test_accs.append(fit_model_lrelu.test_hist)"
      ],
      "metadata": {
        "id": "h6CQIwrCnVYc"
      },
      "execution_count": null,
      "outputs": []
    },
    {
      "cell_type": "code",
      "source": [
        "plt.figure(figsize=(10,7))\n",
        "\n",
        "plt.plot(np.arange(1,51,1), model_tanh_lr_test_accs[0], 'r-', label='lr=0.0001')\n",
        "plt.plot(np.arange(1,51,1), model_tanh_lr_test_accs[1], 'm-', label='lr=0.001')\n",
        "plt.plot(np.arange(1,51,1), model_tanh_lr_test_accs[2], 'b-', label='lr=0.01')\n",
        "plt.plot(np.arange(1,51,1), model_tanh_lr_test_accs[3], 'g-', label='lr=0.1')\n",
        "plt.legend()\n",
        "plt.xlabel('Epoch')\n",
        "plt.ylabel('Accuracy')\n",
        "plt.title('Effect of learning rate on performance of MLP model with tanh activation')\n",
        "plt.show()"
      ],
      "metadata": {
        "id": "O07m2YmktBxV"
      },
      "execution_count": null,
      "outputs": []
    },
    {
      "cell_type": "code",
      "source": [
        "plt.figure(figsize=(10,7))\n",
        "\n",
        "plt.plot(np.arange(1,51,1), model_lrelu_lr_test_accs[0], 'r-', label='lr=0.0001')\n",
        "plt.plot(np.arange(1,51,1), model_lrelu_lr_test_accs[1], 'm-', label='lr=0.001')\n",
        "plt.plot(np.arange(1,51,1), model_lrelu_lr_test_accs[2], 'b-', label='lr=0.01')\n",
        "plt.plot(np.arange(1,51,1), model_lrelu_lr_test_accs[3], 'g-', label='lr=0.1')\n",
        "plt.legend()\n",
        "plt.xlabel('Epoch')\n",
        "plt.ylabel('Accuracy')\n",
        "plt.title('Effect of learning rate on performance of MLP model with leaky ReLU activation')\n",
        "plt.show()"
      ],
      "metadata": {
        "id": "l_NpIl4JtDEj"
      },
      "execution_count": null,
      "outputs": []
    },
    {
      "cell_type": "code",
      "source": [
        "# Select best batch size\n",
        "batch_sizes =  [64,128,256]\n",
        "\n",
        "model_tanh_bs_train_accs = []\n",
        "model_tanh_bs_test_accs = []\n",
        "\n",
        "model_lrelu_bs_train_accs = []\n",
        "model_lrelu_bs_test_accs = []\n",
        "\n",
        "\n",
        "for bs in batch_sizes:\n",
        "\n",
        "  # tanh\n",
        "  optimizer_tanh = GradientDescent(learning_rate= 0.01, epochs=50, batch_size=bs)\n",
        "  model_tanh = MLP(tanh, dtanh, L=2, M=256, add_bias=True)\n",
        "  fit_model_tanh = model_tanh.fit(x_train_norm, y_train_oh, optimizer_tanh)\n",
        "\n",
        "  model_tanh_bs_train_accs.append(fit_model_tanh.train_hist)\n",
        "  model_tanh_bs_test_accs.append(fit_model_tanh.test_hist)\n",
        "\n",
        "  # leaky ReLU\n",
        "  optimizer_lrelu = GradientDescent(learning_rate= 0.01, epochs=50, batch_size=bs)\n",
        "  model_lrelu = MLP(leaky_relu, dleaky_relu, L=2, M=256, add_bias=True)\n",
        "  fit_model_lrelu = model_lrelu.fit(x_train_norm, y_train_oh, optimizer_tanh)\n",
        "\n",
        "  model_lrelu_bs_train_accs.append(fit_model_lrelu.train_hist)\n",
        "  model_lrelu_bs_test_accs.append(fit_model_lrelu.test_hist)"
      ],
      "metadata": {
        "id": "wolKWQ-FckZQ"
      },
      "execution_count": null,
      "outputs": []
    },
    {
      "cell_type": "code",
      "source": [
        "plt.figure(figsize=(10,7))\n",
        "\n",
        "plt.plot(np.arange(1,51,1), model_tanh_bs_test_accs[0], 'm-', label='bs=64')\n",
        "plt.plot(np.arange(1,51,1), model_tanh_bs_test_accs[1], 'b-', label='bs=128')\n",
        "plt.plot(np.arange(1,51,1), model_tanh_bs_test_accs[2], 'g-', label='bs=256')\n",
        "\n",
        "plt.legend()\n",
        "plt.xlabel('Epoch')\n",
        "plt.ylabel('Accuracy')\n",
        "plt.title('Effect of batch size on performance of MLP model with tanh activation')\n",
        "plt.show()"
      ],
      "metadata": {
        "id": "MeVnhK4vdNeZ"
      },
      "execution_count": null,
      "outputs": []
    },
    {
      "cell_type": "code",
      "source": [
        "plt.figure(figsize=(10,7))\n",
        "\n",
        "plt.plot(np.arange(1,51,1), model_lrelu_bs_test_accs[0], 'm-', label='bs=64')\n",
        "plt.plot(np.arange(1,51,1), model_lrelu_bs_test_accs[1], 'b-', label='bs=128')\n",
        "plt.plot(np.arange(1,51,1), model_lrelu_bs_test_accs[2], 'g-', label='bs=256')\n",
        "\n",
        "plt.legend()\n",
        "plt.xlabel('Epoch')\n",
        "plt.ylabel('Accuracy')\n",
        "plt.title('Effect of learning rate on performance of MLP model with leaky ReLU activation')\n",
        "plt.show()"
      ],
      "metadata": {
        "id": "HXmWPv-SdV3O"
      },
      "execution_count": null,
      "outputs": []
    },
    {
      "cell_type": "markdown",
      "source": [
        "## 3.7 Hyperparameter tuning"
      ],
      "metadata": {
        "id": "IS_fPw4JenOP"
      }
    },
    {
      "cell_type": "code",
      "source": [
        "# Select best learning rate\n",
        "learning_rates = [0.0001, 0.001, 0.01, 0.1]\n",
        "\n",
        "model_64_lr_train_accs = []\n",
        "model_64_lr_test_accs = []\n",
        "\n",
        "model_128_lr_train_accs = []\n",
        "model_128_lr_test_accs = []\n",
        "\n",
        "for lr in learning_rates:\n",
        "\n",
        "  # 64 hidden units\n",
        "  optimizer_64 = GradientDescent(learning_rate=lr, epochs=50, batch_size=128)\n",
        "  model_64 = MLP(relu, drelu, L=2, M=64, add_bias=True)\n",
        "  fit_model_64 = model_64.fit(x_train_norm, y_train_oh, optimizer_64)\n",
        "\n",
        "  model_64_lr_train_accs.append(fit_model_64.train_hist)\n",
        "  model_64_lr_test_accs.append(fit_model_64.test_hist)\n",
        "\n",
        "  # 128 hidden units\n",
        "  optimizer_128 = GradientDescent(learning_rate=lr, epochs=50, batch_size=128)\n",
        "  model_128 = MLP(relu, drelu, L=2, M=128, add_bias=True)\n",
        "  fit_model_128 = model_128.fit(x_train_norm, y_train_oh, optimizer_128)\n",
        "\n",
        "  model_128_lr_train_accs.append(fit_model_128.train_hist)\n",
        "  model_128_lr_test_accs.append(fit_model_128.test_hist)"
      ],
      "metadata": {
        "id": "0soxliLkeqG_"
      },
      "execution_count": null,
      "outputs": []
    },
    {
      "cell_type": "code",
      "source": [
        "plt.figure(figsize=(10,7))\n",
        "\n",
        "plt.plot(np.arange(1,51,1), model_64_lr_test_accs[0], 'r-', label='lr=0.0001')\n",
        "plt.plot(np.arange(1,51,1), model_64_lr_test_accs[1], 'm-', label='lr=0.001')\n",
        "plt.plot(np.arange(1,51,1), model_64_lr_test_accs[2], 'b-', label='lr=0.01')\n",
        "plt.plot(np.arange(1,51,1), model_64_lr_test_accs[3], 'g-', label='lr=0.1')\n",
        "plt.legend()\n",
        "plt.xlabel('Epoch')\n",
        "plt.ylabel('Accuracy')\n",
        "plt.title('Effect of learning rate on performance of MLP model with 64 hidden units')\n",
        "plt.show()"
      ],
      "metadata": {
        "id": "NUSez3RMfUpP"
      },
      "execution_count": null,
      "outputs": []
    },
    {
      "cell_type": "code",
      "source": [
        "plt.figure(figsize=(10,7))\n",
        "\n",
        "plt.plot(np.arange(1,51,1), model_128_lr_test_accs[0], 'r-', label='lr=0.0001')\n",
        "plt.plot(np.arange(1,51,1), model_128_lr_test_accs[1], 'm-', label='lr=0.001')\n",
        "plt.plot(np.arange(1,51,1), model_128_lr_test_accs[2], 'b-', label='lr=0.01')\n",
        "plt.plot(np.arange(1,51,1), model_128_lr_test_accs[3], 'g-', label='lr=0.1')\n",
        "plt.legend()\n",
        "plt.xlabel('Epoch')\n",
        "plt.ylabel('Accuracy')\n",
        "plt.title('Effect of learning rate on performance of MLP model with 128 hidden units')\n",
        "plt.show()"
      ],
      "metadata": {
        "id": "4ka7BE4DfVC-"
      },
      "execution_count": null,
      "outputs": []
    },
    {
      "cell_type": "code",
      "source": [
        "# Select best batch size\n",
        "batch_sizes =  [64,128,256]\n",
        "\n",
        "model_64_bs_train_accs = []\n",
        "model_64_bs_test_accs = []\n",
        "\n",
        "model_128_bs_train_accs = []\n",
        "model_128_bs_test_accs = []\n",
        "\n",
        "\n",
        "for bs in batch_sizes:\n",
        "\n",
        "  # 64 hidden layers\n",
        "  optimizer_64 = GradientDescent(learning_rate= 0.01, epochs=50, batch_size=bs)\n",
        "  model_64 = MLP(relu, drelu, L=2, M=64, add_bias=True)\n",
        "  fit_model_64 = model_64.fit(x_train_norm, y_train_oh, optimizer_64)\n",
        "\n",
        "  model_64_bs_train_accs.append(fit_model_64.train_hist)\n",
        "  model_64_bs_test_accs.append(fit_model_64.test_hist)\n",
        "\n",
        "  # 128 hidden layers\n",
        "  optimizer_128 = GradientDescent(learning_rate= 0.01, epochs=50, batch_size=bs)\n",
        "  model_128 = MLP(leaky_relu, dleaky_relu, L=2, M=128, add_bias=True)\n",
        "  fit_model_128 = model_lrelu.fit(x_train_norm, y_train_oh, optimizer_128)\n",
        "\n",
        "  model_128_bs_train_accs.append(fit_model_128.train_hist)\n",
        "  model_128_bs_test_accs.append(fit_model_128.test_hist)"
      ],
      "metadata": {
        "id": "xHDRVpJrj4a5"
      },
      "execution_count": null,
      "outputs": []
    },
    {
      "cell_type": "code",
      "source": [
        "plt.figure(figsize=(10,7))\n",
        "\n",
        "plt.plot(np.arange(1,51,1), model_64_bs_test_accs[0], 'm-', label='bs=64')\n",
        "plt.plot(np.arange(1,51,1), model_64_bs_test_accs[1], 'b-', label='bs=128')\n",
        "plt.plot(np.arange(1,51,1), model_64_bs_test_accs[2], 'g-', label='bs=256')\n",
        "plt.legend()\n",
        "plt.xlabel('Epoch')\n",
        "plt.ylabel('Accuracy')\n",
        "plt.title('Effect of batch size on performance of MLP model with 64 hidden units')\n",
        "plt.show()"
      ],
      "metadata": {
        "id": "6vI4KoTEkxL5"
      },
      "execution_count": null,
      "outputs": []
    },
    {
      "cell_type": "code",
      "source": [
        "plt.figure(figsize=(10,7))\n",
        "\n",
        "plt.plot(np.arange(1,51,1), model_128_bs_test_accs[0], 'm-', label='bs=64')\n",
        "plt.plot(np.arange(1,51,1), model_128_bs_test_accs[1], 'b-', label='bs=128')\n",
        "plt.plot(np.arange(1,51,1), model_128_bs_test_accs[2], 'g-', label='bs=256')\n",
        "plt.legend()\n",
        "plt.xlabel('Epoch')\n",
        "plt.ylabel('Accuracy')\n",
        "plt.title('Effect of batch size on performance of MLP model with 128 hidden units')\n",
        "plt.show()"
      ],
      "metadata": {
        "id": "jXC0gaGblP7t"
      },
      "execution_count": null,
      "outputs": []
    }
  ],
  "metadata": {
    "colab": {
      "provenance": [],
      "collapsed_sections": [
        "0HU41Xz6K38Z",
        "mORjfSx7kNcr",
        "ymaGvkkylL4Y",
        "qIerXC6Clx33",
        "1aneEzAfmOMu",
        "LHdP5c_SnMRl",
        "NIEx02rDnO2J",
        "tOBIrGG4nR-T",
        "IS_fPw4JenOP"
      ]
    },
    "gpuClass": "standard",
    "kernelspec": {
      "display_name": "Python 3",
      "name": "python3"
    },
    "language_info": {
      "name": "python"
    }
  },
  "nbformat": 4,
  "nbformat_minor": 0
}